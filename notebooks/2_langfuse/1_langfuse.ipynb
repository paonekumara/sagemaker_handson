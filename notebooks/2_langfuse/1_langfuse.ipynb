{
 "cells": [
  {
   "cell_type": "markdown",
   "metadata": {},
   "source": [
    "- Setup a Langchain project and get credentials"
   ]
  },
  {
   "cell_type": "code",
   "execution_count": 1,
   "metadata": {},
   "outputs": [
    {
     "data": {
      "text/plain": [
       "True"
      ]
     },
     "execution_count": 1,
     "metadata": {},
     "output_type": "execute_result"
    }
   ],
   "source": [
    "import dotenv\n",
    "\n",
    "# OPENAI_API_KEY\n",
    "# LANGFUSE_SECRET_KEY\n",
    "# LANGFUSE_PUBLIC_KEY\n",
    "# LANGFUSE_HOST=\"https://cloud.langfuse.com\"\n",
    "\n",
    "dotenv.load_dotenv('.env')"
   ]
  },
  {
   "cell_type": "markdown",
   "metadata": {},
   "source": [
    "# Playground demo\n",
    "\n",
    "- playground lets us experiment with different prompts based on our use cases\n",
    "- once a prompt gives stable output we can then store it for future use\n"
   ]
  },
  {
   "cell_type": "markdown",
   "metadata": {},
   "source": [
    "# Prompt management demo\n",
    "- use can then version and use these prompts in production\n",
    "- prompts are fetch in real-time and therefore can be used to quicky change the application behaviour"
   ]
  },
  {
   "cell_type": "code",
   "execution_count": 2,
   "metadata": {},
   "outputs": [],
   "source": [
    "# rag-base-prompt-with-context\n",
    "message = \"\"\"\n",
    "Answer this question using the provided context only.\n",
    "\n",
    "{{question}}\n",
    "\n",
    "Context:\n",
    "{{context}}\n",
    "\"\"\"\n",
    "\n",
    "args = {\"model\": \"gpt-4o-mini\", \"temperature\": 0}"
   ]
  },
  {
   "cell_type": "markdown",
   "metadata": {},
   "source": [
    "# Decorator based integration"
   ]
  },
  {
   "cell_type": "code",
   "execution_count": 5,
   "metadata": {},
   "outputs": [],
   "source": [
    "from langfuse.decorators import observe, langfuse_context\n",
    "import openai\n",
    " \n",
    "\n",
    "# decorator to monitor trace\n",
    "@observe(as_type=\"generation\")\n",
    "def call_openai(session_id, user_id, **kwargs):\n",
    "\n",
    "  # add metadata to the context\n",
    "  langfuse_context.update_current_observation(\n",
    "      input=kwargs[\"messages\"],\n",
    "      model=kwargs[\"model\"],\n",
    "      metadata={\"max_tokens\": kwargs[\"max_tokens\"], \"type\": \"testing\"}\n",
    "  )\n",
    "\n",
    "  # optional arguments\n",
    "  langfuse_context.update_current_trace(\n",
    "    session_id=session_id, \n",
    "    user_id=user_id, \n",
    "    metadata={\"is_openai\": bool(\"gpt\" in kwargs[\"model\"])}\n",
    ")\n",
    " \n",
    "  # return value also monitored\n",
    "  return openai.chat.completions.create(**kwargs).choices[0].message.content\n",
    " \n",
    "@observe()\n",
    "def main(session_id = \"\", user_id = \"\"):\n",
    "  return call_openai(\n",
    "    session_id,\n",
    "    user_id,\n",
    "      model=\"gpt-4o-mini\",\n",
    "      max_tokens=200,\n",
    "      messages=[\n",
    "          {\"role\": \"user\", \"content\": \"What is the meaning of life ?\"}\n",
    "      ]\n",
    "  )"
   ]
  },
  {
   "cell_type": "code",
   "execution_count": 6,
   "metadata": {},
   "outputs": [
    {
     "data": {
      "text/plain": [
       "'The meaning of life is a profound and philosophical question that has been explored by thinkers, theologians, and scientists throughout history. Different cultures, religions, and individuals may interpret it in various ways. Here are a few perspectives:\\n\\n1. **Philosophical Perspectives**: Many philosophers suggest that the meaning of life is subjective and can be defined by individual experiences, relationships, and personal goals. Existentialists, for instance, argue that people create their own meaning through choices and actions.\\n\\n2. **Religious Perspectives**: Many religious traditions propose that the meaning of life involves fulfilling a purpose assigned by a higher power, seeking spiritual enlightenment, or engaging in moral and ethical behavior.\\n\\n3. **Scientific Perspective**: From a biological standpoint, the meaning of life could be seen as survival and reproduction, ensuring the continuation of genetic material.\\n\\n4. **Personal Fulfillment**: For many, the meaning of life is found in personal fulfillment, happiness, meaningful relationships, and contributing to society.\\n\\nUltimately'"
      ]
     },
     "execution_count": 6,
     "metadata": {},
     "output_type": "execute_result"
    }
   ],
   "source": [
    "main()"
   ]
  },
  {
   "cell_type": "code",
   "execution_count": 7,
   "metadata": {},
   "outputs": [
    {
     "data": {
      "text/plain": [
       "\"The meaning of life is a philosophical question that has been contemplated by humans for centuries, and different cultures, religions, and individuals have offered various interpretations. Some common perspectives include:\\n\\n1. **Religious Perspectives**: Many religions propose that life has a purpose defined by a higher power, often involving concepts of creation, moral living, and an afterlife.\\n\\n2. **Existential Views**: Existentialists argue that life has no inherent meaning and that individuals must create their own purpose through their choices and actions.\\n\\n3. **Humanistic Approach**: Humanists often find meaning in personal fulfillment, relationships, and contributions to society, emphasizing human potential and experience.\\n\\n4. **Philosophical Inquiry**: Philosophers like Aristotle have suggested that the meaning of life is tied to the pursuit of virtue and the realization of one's potential.\\n\\n5. **Scientific Perspectives**: From a scientific standpoint, the purpose of life might be viewed through the lens of evolution and survival, focusing on reproduction and the\""
      ]
     },
     "execution_count": 7,
     "metadata": {},
     "output_type": "execute_result"
    }
   ],
   "source": [
    "main(session_id=\"android\")"
   ]
  },
  {
   "cell_type": "code",
   "execution_count": 8,
   "metadata": {},
   "outputs": [
    {
     "data": {
      "text/plain": [
       "\"The meaning of life is a profound question that has been contemplated by philosophers, theologians, scientists, and individuals throughout history. Different cultures, religions, and philosophies offer various interpretations:\\n\\n1. **Philosophical Perspectives**: Existentialists like Jean-Paul Sartre suggest that life has no inherent meaning, and it's up to each individual to create their own purpose. Other philosophical traditions, such as utilitarianism, propose that the meaning of life is to maximize happiness and reduce suffering.\\n\\n2. **Religious Views**: Many religions provide frameworks for understanding life's purpose, often centered around concepts such as serving God, achieving enlightenment, or fulfilling one's spiritual potential. For example, in Christianity, the meaning of life may be seen as developing a relationship with God and serving others.\\n\\n3. **Scientific Understanding**: From a biological perspective, the meaning of life could be interpreted as the survival and reproduction of the species. However, this viewpoint does not address deeper existential inquiries about purpose or fulfillment.\\n\\n4\""
      ]
     },
     "execution_count": 8,
     "metadata": {},
     "output_type": "execute_result"
    }
   ],
   "source": [
    "main(session_id=\"ios\", user_id=\"Alice\")"
   ]
  },
  {
   "cell_type": "code",
   "execution_count": 9,
   "metadata": {},
   "outputs": [
    {
     "data": {
      "text/plain": [
       "\"The meaning of life is a profound question that has been explored by philosophers, theologians, scientists, and many others throughout history. Perspectives on the meaning of life vary widely based on cultural, religious, philosophical, and individual beliefs.\\n\\n1. **Philosophical Perspectives**: Some philosophies suggest that the meaning of life is subjective, proposing that individuals create their own meaning through experiences, relationships, and personal growth. Existential philosophers, for instance, emphasize personal responsibility and the search for authenticity.\\n\\n2. **Religious Views**: Many religions offer specific interpretations of life's meaning. For example, in Christianity, life’s purpose may be seen as serving God and others, while in Buddhism, it may involve achieving enlightenment and alleviating suffering.\\n\\n3. **Scientific Perspectives**: From a biological standpoint, some argue that the purpose of life is simply to survive, reproduce, and pass on genes. Others may see the pursuit of knowledge and understanding as a significant aspect of human existence.\\n\\n4. **Personal\""
      ]
     },
     "execution_count": 9,
     "metadata": {},
     "output_type": "execute_result"
    }
   ],
   "source": [
    "main(session_id=\"ios\", user_id=\"Bob\")"
   ]
  },
  {
   "cell_type": "code",
   "execution_count": null,
   "metadata": {},
   "outputs": [],
   "source": []
  }
 ],
 "metadata": {
  "kernelspec": {
   "display_name": "Python 3 (ipykernel)",
   "language": "python",
   "name": "python3"
  },
  "language_info": {
   "codemirror_mode": {
    "name": "ipython",
    "version": 3
   },
   "file_extension": ".py",
   "mimetype": "text/x-python",
   "name": "python",
   "nbconvert_exporter": "python",
   "pygments_lexer": "ipython3",
   "version": "3.10.14"
  }
 },
 "nbformat": 4,
 "nbformat_minor": 4
}
