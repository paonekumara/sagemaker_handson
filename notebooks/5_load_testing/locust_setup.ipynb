{
 "cells": [
  {
   "cell_type": "markdown",
   "metadata": {
    "pycharm": {
     "name": "#%% md\n"
    }
   },
   "source": [
    "# Load Testing"
   ]
  },
  {
   "cell_type": "markdown",
   "metadata": {},
   "source": [
    "## Testing Workbench"
   ]
  },
  {
   "cell_type": "code",
   "execution_count": null,
   "metadata": {},
   "outputs": [],
   "source": [
    "%%writefile locust.py\n",
    "# locust -f ./locust.py\n",
    "# locust -f ./locust.py --headless --users 100 --spawn-rate 10\n",
    "from json import JSONDecodeError\n",
    "from locust import HttpUser, task, between\n",
    "\n",
    "class QuickstartUser(HttpUser):\n",
    "\n",
    "    # wait time between each task\n",
    "    host = \"http://0.0.0.0\"\n",
    "    wait_time = between(1,2)\n",
    "\n",
    "    @task\n",
    "    def call_ner_recognizer(self):\n",
    "        adapter_path = \"predibase/conllpp\"\n",
    "        prompt = \"\"\"Your task is a Named Entity Recognition (NER) task. \\n\\\n",
    "            Predict the category of each entity, then place the entity into the list associated with the category in an output JSON payload.\\n\\\n",
    "            Below is an example: \\n\\-\n",
    "            Input: EU rejects German call to boycott British lamb.\\n\\\n",
    "            Output: {\"person\": [], \"organization\": [\"EU\"], \"location\": [], \"miscellaneous\": [\"German\", \"British\"]} \\n\\\n",
    "            Now, complete the task. \\n\\ \n",
    "            Input: By the close Yorkshire had turned that into a 37-run advantage but off-spinner David had scuttled their hopes, \\\n",
    "                taking four for 24 in 48 balls and leaving them hanging on 119 for five and praying for rain. \\n\\\n",
    "            Output:\"\"\"\n",
    "\n",
    "        expected_output = '{\"person\": [\"David\"], \"organization\": [\"Yorkshire\"], \"location\": [], \"miscellaneous\": []}'\n",
    "\n",
    "        with self.client.post(\"/generate\",\n",
    "            name=\"call_ner_recognizer\",\n",
    "            headers={\"Content-Type\": \"application/json\"},\n",
    "            json={\n",
    "                \"inputs\": prompt,\n",
    "                \"parameters\": {\n",
    "                    \"max_new_tokens\": 512,\n",
    "                    \"adapter_id\": adapter_path,\n",
    "                    \"adapter_source\": \"hub\",\n",
    "                    \"temperature\": 0,\n",
    "                    \"top_p\": 0.1,\n",
    "                    }\n",
    "            },\n",
    "            catch_response=True\n",
    "        ) as response:\n",
    "            try:\n",
    "                if response.json()[\"generated_text\"] != expected_output:\n",
    "                    response.failure(\"Did not get expected value\")\n",
    "            except JSONDecodeError:\n",
    "                response.failure(\"Response could not be decoded as JSON\")\n",
    "            except KeyError as e:\n",
    "                response.failure(e)\n",
    "\n",
    "    @task\n",
    "    def call_customer_support(self):\n",
    "        adapter_path = \"predibase/customer_support\"\n",
    "        prompt = \"\"\"Consider the case of a customer contacting the support center.\n",
    "            The term 'task type' refers to the reason for why the customer contacted support.\n",
    "            ### The possible task types are: ### \n",
    "            - replace card\n",
    "            - transfer money\n",
    "            - check balance\n",
    "            - order checks\n",
    "            - pay bill\n",
    "            - reset password\n",
    "            - schedule appointment\n",
    "            - get branch hours\n",
    "            - none of the above\n",
    "\n",
    "            Summarize the issue/question/reason that drove the customer to contact support:\n",
    "\n",
    "            ### Transcript: [noise] [noise] [noise] [noise] hello hello hi i'm sorry this this call uh hello this is harper valley national bank my name is dawn how can i help you today hi oh okay my name is jennifer brown and i need to check my account balance if i could [noise] [noise] [noise] [noise] what account would you like to check um [noise] uhm my savings account please [noise] [noise] oh but the way that you're doing one moment hello yeah one moment uh huh no problem [noise] your account balance is eighty two dollars is there anything else i can help you with no i don't think so thank you so much you were very helpful thank you have a good day bye bye [noise] you too \n",
    "\n",
    "            ### Task Type:\n",
    "            test_transcript =\"\"\"\n",
    "\n",
    "        expected_output = \"check balance\"\n",
    "\n",
    "        with self.client.post(\"/generate\",\n",
    "            name=\"call_customer_support\",\n",
    "            headers={\"Content-Type\": \"application/json\"},\n",
    "            json={\n",
    "                \"inputs\": prompt,\n",
    "                \"parameters\": {\n",
    "                    \"max_new_tokens\": 512,\n",
    "                    \"adapter_id\": adapter_path,\n",
    "                    \"adapter_source\": \"hub\",\n",
    "                    \"temperature\": 0,\n",
    "                    \"top_p\": 0.1,\n",
    "                    }\n",
    "            },\n",
    "            catch_response=True\n",
    "        ) as response:\n",
    "            try:\n",
    "                if response.json()[\"generated_text\"] != expected_output:\n",
    "                    response.failure(\"Did not get expected value\")\n",
    "            except JSONDecodeError:\n",
    "                response.failure(\"Response could not be decoded as JSON\")\n",
    "            except KeyError as e:\n",
    "                response.failure(e)\n",
    "\n",
    "    @task\n",
    "    def call_code_generator(self):\n",
    "        adapter_path = \"predibase/magicoder\"\n",
    "\n",
    "        prompt = \"\"\"Sample input: Below is a programming problem, paired with a language in which the solution should be written. \\\n",
    "            Write a solution in the provided that appropriately solves the programming problem. \\\n",
    "            ### Problem: def strlen(string: str) -> int: ''' Return length of given string >>> strlen('') 0 >>> strlen('abc') 3 ''' \\\n",
    "            ### Language: python \\\n",
    "            ### Solution:\"\"\"\n",
    "\n",
    "        expected_output = \"def strlen(string: str) -> int:\\n    return len(string)\"\n",
    "\n",
    "        with self.client.post(\"/generate\",\n",
    "            name=\"call_code_generator\",\n",
    "            headers={\"Content-Type\": \"application/json\"},\n",
    "            json={\n",
    "                \"inputs\": prompt,\n",
    "                \"parameters\": {\n",
    "                    \"max_new_tokens\": 512,\n",
    "                    \"adapter_id\": adapter_path,\n",
    "                    \"adapter_source\": \"hub\",\n",
    "                    \"temperature\": 0,\n",
    "                    \"top_p\": 0.1,\n",
    "                    }\n",
    "            },\n",
    "            catch_response=True\n",
    "        ) as response:\n",
    "            try:\n",
    "                if response.json()[\"generated_text\"] != expected_output:\n",
    "                    response.failure(\"Did not get expected value\")\n",
    "            except JSONDecodeError:\n",
    "                response.failure(\"Response could not be decoded as JSON\")\n",
    "            except KeyError as e:\n",
    "                response.failure(e)"
   ]
  },
  {
   "cell_type": "markdown",
   "metadata": {},
   "source": [
    "## Library Installation"
   ]
  },
  {
   "cell_type": "code",
   "execution_count": null,
   "metadata": {
    "collapsed": false,
    "jupyter": {
     "outputs_hidden": false
    },
    "pycharm": {
     "name": "#%%\n"
    },
    "scrolled": true
   },
   "outputs": [],
   "source": [
    "! pip install sagemaker-studio-image-build==0.6.0"
   ]
  },
  {
   "cell_type": "markdown",
   "metadata": {},
   "source": [
    "# Upload Dockerfile to AWS ECR"
   ]
  },
  {
   "cell_type": "code",
   "execution_count": null,
   "metadata": {
    "pycharm": {
     "name": "#%%\n"
    },
    "scrolled": true
   },
   "outputs": [],
   "source": [
    "!sm-docker build . --file ./Dockerfile --repository \"locust:latest\""
   ]
  },
  {
   "cell_type": "markdown",
   "metadata": {},
   "source": [
    "## Kubernetes deployment\n",
    "\n",
    "- update deployment with ECR URI\n",
    "- update service\n",
    "- update ingress"
   ]
  },
  {
   "cell_type": "code",
   "execution_count": null,
   "metadata": {},
   "outputs": [],
   "source": []
  }
 ],
 "metadata": {
  "instance_type": "ml.t3.medium",
  "kernelspec": {
   "display_name": "Python 3 (ipykernel)",
   "language": "python",
   "name": "python3"
  },
  "language_info": {
   "codemirror_mode": {
    "name": "ipython",
    "version": 3
   },
   "file_extension": ".py",
   "mimetype": "text/x-python",
   "name": "python",
   "nbconvert_exporter": "python",
   "pygments_lexer": "ipython3",
   "version": "3.10.14"
  }
 },
 "nbformat": 4,
 "nbformat_minor": 4
}
